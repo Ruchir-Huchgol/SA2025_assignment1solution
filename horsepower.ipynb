{
 "cells": [
  {
   "cell_type": "code",
   "execution_count": 1,
   "metadata": {},
   "outputs": [],
   "source": [
    "import pandas as pd\n",
    "import numpy as np\n",
    "import matplotlib.pyplot as plt\n",
    "import seaborn as sns"
   ]
  },
  {
   "cell_type": "code",
   "execution_count": 2,
   "metadata": {},
   "outputs": [],
   "source": [
    "df = pd.read_csv('Cars.csv')"
   ]
  },
  {
   "cell_type": "code",
   "execution_count": 3,
   "metadata": {},
   "outputs": [
    {
     "name": "stdout",
     "output_type": "stream",
     "text": [
      "Car with highest horsepower: pontiac grand prix\n",
      "Horsepower: 230.0\n",
      "Origin: usa\n",
      "Model year: 73\n"
     ]
    }
   ],
   "source": [
    "# Find the car with the highest horsepower\n",
    "max_hp_car = df.loc[df['horsepower'].idxmax()]\n",
    "print(f\"Car with highest horsepower: {max_hp_car['name']}\")\n",
    "print(f\"Horsepower: {max_hp_car['horsepower']}\")\n",
    "print(f\"Origin: {max_hp_car['origin']}\")\n",
    "print(f\"Model year: {max_hp_car['model_year']}\")"
   ]
  }
 ],
 "metadata": {
  "kernelspec": {
   "display_name": "Python 3",
   "language": "python",
   "name": "python3"
  },
  "language_info": {
   "codemirror_mode": {
    "name": "ipython",
    "version": 3
   },
   "file_extension": ".py",
   "mimetype": "text/x-python",
   "name": "python",
   "nbconvert_exporter": "python",
   "pygments_lexer": "ipython3",
   "version": "3.10.16"
  }
 },
 "nbformat": 4,
 "nbformat_minor": 2
}
